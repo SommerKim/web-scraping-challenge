{
 "cells": [
  {
   "cell_type": "code",
   "execution_count": 1,
   "metadata": {},
   "outputs": [],
   "source": [
    "import pandas as pd\n",
    "import requests\n",
    "from splinter import Browser\n",
    "from bs4 import BeautifulSoup as bs\n",
    "from webdriver_manager.chrome import ChromeDriverManager"
   ]
  },
  {
   "cell_type": "code",
   "execution_count": 2,
   "metadata": {},
   "outputs": [
    {
     "name": "stderr",
     "output_type": "stream",
     "text": [
      "[WDM] - ====== WebDriver manager ======\n",
      "[WDM] - Current google-chrome version is 89.0.4389\n",
      "[WDM] - Get LATEST driver version for 89.0.4389\n"
     ]
    },
    {
     "name": "stdout",
     "output_type": "stream",
     "text": [
      "\n",
      "\n"
     ]
    },
    {
     "name": "stderr",
     "output_type": "stream",
     "text": [
      "[WDM] - Driver [C:\\Users\\kimso\\.wdm\\drivers\\chromedriver\\win32\\89.0.4389.23\\chromedriver.exe] found in cache\n"
     ]
    }
   ],
   "source": [
    "executable_path = {'executable_path': ChromeDriverManager().install()}\n",
    "browser = Browser('chrome', **executable_path, headless=False)"
   ]
  },
  {
   "cell_type": "markdown",
   "metadata": {},
   "source": [
    "## NASA Mars News"
   ]
  },
  {
   "cell_type": "code",
   "execution_count": 3,
   "metadata": {},
   "outputs": [],
   "source": [
    "url = \"https://mars.nasa.gov/news\"\n",
    "browser.visit(url)\n",
    "html = browser.html"
   ]
  },
  {
   "cell_type": "code",
   "execution_count": 5,
   "metadata": {},
   "outputs": [],
   "source": [
    "soup = bs(html, 'html.parser')"
   ]
  },
  {
   "cell_type": "code",
   "execution_count": 6,
   "metadata": {},
   "outputs": [
    {
     "name": "stdout",
     "output_type": "stream",
     "text": [
      "<li class=\"slide\">\n",
      " <div class=\"image_and_description_container\">\n",
      "  <a href=\"/news/8886/nasas-perseverance-mars-rover-mission-honors-navajo-language/\" target=\"_self\">\n",
      "   <div class=\"rollover_description\">\n",
      "    <div class=\"rollover_description_inner\">\n",
      "     Working with the Navajo Nation, the rover team has named features on Mars with words from the Navajo language.\n",
      "    </div>\n",
      "    <div class=\"overlay_arrow\">\n",
      "     <img alt=\"More\" src=\"/assets/overlay-arrow.png\"/>\n",
      "    </div>\n",
      "   </div>\n",
      "   <div class=\"list_image\">\n",
      "    <img alt=\"Canyon de Chelly National Monument (“Tséyi’” in Navajo) in Arizona is located on Navajo Nation land. Members of NASA’s Perseverance rover team, in collaboration with the Navajo Nation, has been naming features of scientific interest with words in the Navajo language. \" src=\"/system/news_items/list_view_images/8886_1-Canyon-de-Chelly-National-Monument-320x240.jpg\"/>\n",
      "   </div>\n",
      "   <div class=\"bottom_gradient\">\n",
      "    <div>\n",
      "     <h3>\n",
      "      NASA's Perseverance Mars Rover Mission Honors Navajo Language\n",
      "     </h3>\n",
      "    </div>\n",
      "   </div>\n",
      "  </a>\n",
      "  <div class=\"list_text\">\n",
      "   <div class=\"list_date\">\n",
      "    March 11, 2021\n",
      "   </div>\n",
      "   <div class=\"content_title\">\n",
      "    <a href=\"/news/8886/nasas-perseverance-mars-rover-mission-honors-navajo-language/\" target=\"_self\">\n",
      "     NASA's Perseverance Mars Rover Mission Honors Navajo Language\n",
      "    </a>\n",
      "   </div>\n",
      "   <div class=\"article_teaser_body\">\n",
      "    Working with the Navajo Nation, the rover team has named features on Mars with words from the Navajo language.\n",
      "   </div>\n",
      "  </div>\n",
      " </div>\n",
      "</li>\n",
      "\n"
     ]
    }
   ],
   "source": [
    "articles = soup.find_all('li', class_='slide')[0]\n",
    "print(articles.prettify())"
   ]
  },
  {
   "cell_type": "code",
   "execution_count": 7,
   "metadata": {},
   "outputs": [
    {
     "data": {
      "text/plain": [
       "\"NASA's Perseverance Mars Rover Mission Honors Navajo Language\""
      ]
     },
     "execution_count": 7,
     "metadata": {},
     "output_type": "execute_result"
    }
   ],
   "source": [
    "headline = articles.find(class_='content_title').text\n",
    "headline"
   ]
  },
  {
   "cell_type": "code",
   "execution_count": 8,
   "metadata": {},
   "outputs": [
    {
     "data": {
      "text/plain": [
       "'Working with the Navajo Nation, the rover team has named features on Mars with words from the Navajo language.'"
      ]
     },
     "execution_count": 8,
     "metadata": {},
     "output_type": "execute_result"
    }
   ],
   "source": [
    "paragraph = articles.find(class_='article_teaser_body').text\n",
    "paragraph"
   ]
  },
  {
   "cell_type": "markdown",
   "metadata": {},
   "source": [
    "## JPL Mars Space Images - Featured Image"
   ]
  },
  {
   "cell_type": "code",
   "execution_count": 9,
   "metadata": {},
   "outputs": [],
   "source": [
    "url = \"https://data-class-jpl-space.s3.amazonaws.com/JPL_Space/index.html\"\n",
    "browser.visit(url)\n",
    "html = browser.html"
   ]
  },
  {
   "cell_type": "code",
   "execution_count": null,
   "metadata": {},
   "outputs": [],
   "source": []
  }
 ],
 "metadata": {
  "kernelspec": {
   "display_name": "Python 3",
   "language": "python",
   "name": "python3"
  },
  "language_info": {
   "codemirror_mode": {
    "name": "ipython",
    "version": 3
   },
   "file_extension": ".py",
   "mimetype": "text/x-python",
   "name": "python",
   "nbconvert_exporter": "python",
   "pygments_lexer": "ipython3",
   "version": "3.6.10"
  }
 },
 "nbformat": 4,
 "nbformat_minor": 4
}
